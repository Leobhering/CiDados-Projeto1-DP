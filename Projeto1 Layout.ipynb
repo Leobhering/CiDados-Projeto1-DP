{
 "cells": [
  {
   "cell_type": "markdown",
   "metadata": {},
   "source": [
    "___\n",
    "# Ciência dos Dados - PROJETO 1"
   ]
  },
  {
   "cell_type": "markdown",
   "metadata": {},
   "source": [
    "## Leonardo Bhering Gonçalves\n",
    "___"
   ]
  },
  {
   "cell_type": "markdown",
   "metadata": {},
   "source": [
    "## Acesso do Brasileiro à Intenet e ao Telefone Celular"
   ]
  },
  {
   "cell_type": "markdown",
   "metadata": {},
   "source": [
    "___\n",
    "## Introdução\n",
    "\n",
    "Neste projeto você terá a oportunidade de conhecer como está o acesso dos brasileiros, que ganham até 10 mil reais, à internet e ao telefone celular pessoal. Farei uma analize, utilizando os dados da base de dados PNAD do IBGE de 2015, da quantidade de brasileiros que ainda não possuem acesso à internet ou a telefone celular próprio. Também irei comparar o acesso à internet e ao celular com faixas de renda da população."
   ]
  },
  {
   "cell_type": "markdown",
   "metadata": {},
   "source": [
    "___\n",
    "## Filtros da base de dados"
   ]
  },
  {
   "cell_type": "code",
   "execution_count": 11,
   "metadata": {
    "collapsed": true
   },
   "outputs": [],
   "source": [
    "%matplotlib inline\n",
    "import pandas as pd\n",
    "import matplotlib.pyplot as plt\n",
    "import numpy as np\n",
    "import os\n",
    "from numpy import arange"
   ]
  },
  {
   "cell_type": "code",
   "execution_count": 12,
   "metadata": {},
   "outputs": [
    {
     "name": "stdout",
     "output_type": "stream",
     "text": [
      "Esperamos trabalhar no diretório\n",
      "C:\\Users\\Leonardo\\Documents\\INSPER\\CiDadosDP\\Projetos\\Projeto 1\n"
     ]
    }
   ],
   "source": [
    "print('Esperamos trabalhar no diretório')\n",
    "print(os.getcwd())"
   ]
  },
  {
   "cell_type": "code",
   "execution_count": 13,
   "metadata": {
    "collapsed": true
   },
   "outputs": [],
   "source": [
    "dados_2015=pd.read_csv('PES2015.csv',sep=',')"
   ]
  },
  {
   "cell_type": "code",
   "execution_count": 14,
   "metadata": {},
   "outputs": [
    {
     "name": "stdout",
     "output_type": "stream",
     "text": [
      "Tabela de acesso a internet e rendimento mensal\n"
     ]
    },
    {
     "data": {
      "text/html": [
       "<div>\n",
       "<style>\n",
       "    .dataframe thead tr:only-child th {\n",
       "        text-align: right;\n",
       "    }\n",
       "\n",
       "    .dataframe thead th {\n",
       "        text-align: left;\n",
       "    }\n",
       "\n",
       "    .dataframe tbody tr th {\n",
       "        vertical-align: top;\n",
       "    }\n",
       "</style>\n",
       "<table border=\"1\" class=\"dataframe\">\n",
       "  <thead>\n",
       "    <tr style=\"text-align: right;\">\n",
       "      <th></th>\n",
       "      <th>Acessou Internet nos ultimos 3 meses</th>\n",
       "      <th>Rendimento Mensal</th>\n",
       "    </tr>\n",
       "  </thead>\n",
       "  <tbody>\n",
       "    <tr>\n",
       "      <th>1</th>\n",
       "      <td>Sim</td>\n",
       "      <td>1150.0</td>\n",
       "    </tr>\n",
       "    <tr>\n",
       "      <th>2</th>\n",
       "      <td>Sim</td>\n",
       "      <td>880.0</td>\n",
       "    </tr>\n",
       "    <tr>\n",
       "      <th>3</th>\n",
       "      <td>Sim</td>\n",
       "      <td>3000.0</td>\n",
       "    </tr>\n",
       "    <tr>\n",
       "      <th>7</th>\n",
       "      <td>Sim</td>\n",
       "      <td>880.0</td>\n",
       "    </tr>\n",
       "    <tr>\n",
       "      <th>8</th>\n",
       "      <td>Não</td>\n",
       "      <td>3500.0</td>\n",
       "    </tr>\n",
       "    <tr>\n",
       "      <th>9</th>\n",
       "      <td>Não</td>\n",
       "      <td>2300.0</td>\n",
       "    </tr>\n",
       "    <tr>\n",
       "      <th>10</th>\n",
       "      <td>Sim</td>\n",
       "      <td>1990.0</td>\n",
       "    </tr>\n",
       "    <tr>\n",
       "      <th>11</th>\n",
       "      <td>Não</td>\n",
       "      <td>700.0</td>\n",
       "    </tr>\n",
       "    <tr>\n",
       "      <th>14</th>\n",
       "      <td>Não</td>\n",
       "      <td>4000.0</td>\n",
       "    </tr>\n",
       "    <tr>\n",
       "      <th>16</th>\n",
       "      <td>Sim</td>\n",
       "      <td>1160.0</td>\n",
       "    </tr>\n",
       "  </tbody>\n",
       "</table>\n",
       "</div>"
      ],
      "text/plain": [
       "   Acessou Internet nos ultimos 3 meses  Rendimento Mensal\n",
       "1                                   Sim             1150.0\n",
       "2                                   Sim              880.0\n",
       "3                                   Sim             3000.0\n",
       "7                                   Sim              880.0\n",
       "8                                   Não             3500.0\n",
       "9                                   Não             2300.0\n",
       "10                                  Sim             1990.0\n",
       "11                                  Não              700.0\n",
       "14                                  Não             4000.0\n",
       "16                                  Sim             1160.0"
      ]
     },
     "execution_count": 14,
     "metadata": {},
     "output_type": "execute_result"
    }
   ],
   "source": [
    "#Filtrando a tabela para as variáveis necessárias\n",
    "tab_reduzida = dados_2015.iloc[1:,[59,307]]\n",
    "tab_reduzida.V06111 = tab_reduzida.V06111.astype('category')\n",
    "tab_reduzida.V06111.cat.categories = ('Sim','Não')\n",
    "tbI = tab_reduzida.rename(columns={\"V06111\":\"Acessou Internet nos ultimos 3 meses\"})\n",
    "DADOSOFF=tbI.dropna(0,how='any')\n",
    "dadosoff=DADOSOFF[DADOSOFF.V4720>0]\n",
    "dadosoff1=dadosoff[dadosoff.V4720<10000]\n",
    "tb = dadosoff.rename(columns={\"V4720\":\"Rendimento Mensal\"})\n",
    "dfc = tab_reduzida.V06111.value_counts()\n",
    "print('Tabela de acesso a internet e rendimento mensal')\n",
    "tb.head(10)"
   ]
  },
  {
   "cell_type": "markdown",
   "metadata": {},
   "source": [
    "Esta é a tabela com a qual trabalharei. Na tabela, podemos observar o código da pessoa, se ela acessou a internet de alguma forma nos últimos 3 meses e o rendimento mensal dessa pessoa. A próxima tabela segue o mesmo padrão, mudando apenas de acesso a internet para a posse de telefone celular próprio ou não."
   ]
  },
  {
   "cell_type": "markdown",
   "metadata": {},
   "source": [
    "## Análise e Resultados"
   ]
  },
  {
   "cell_type": "code",
   "execution_count": 15,
   "metadata": {},
   "outputs": [
    {
     "name": "stdout",
     "output_type": "stream",
     "text": [
      "Quantidade de pessoas que tem acesso à internet e quantidade de pessoas que não tem acesso\n"
     ]
    },
    {
     "data": {
      "text/plain": [
       "Sim    177666\n",
       "Não    130932\n",
       "Name: V06111, dtype: int64"
      ]
     },
     "execution_count": 15,
     "metadata": {},
     "output_type": "execute_result"
    }
   ],
   "source": [
    "print('Quantidade de pessoas que tem acesso à internet e quantidade de pessoas que não tem acesso')\n",
    "dfc"
   ]
  },
  {
   "cell_type": "code",
   "execution_count": 16,
   "metadata": {
    "scrolled": true
   },
   "outputs": [
    {
     "data": {
      "text/plain": [
       "<matplotlib.text.Text at 0x1c7f9548588>"
      ]
     },
     "execution_count": 16,
     "metadata": {},
     "output_type": "execute_result"
    },
    {
     "data": {
      "image/png": "[encoded data removed]",
      "text/plain": [
       "<matplotlib.figure.Figure at 0x1c7ba774a20>"
      ]
     },
     "metadata": {},
     "output_type": "display_data"
    }
   ],
   "source": [
    "fig = plt.figure(figsize=(15, 5))\n",
    "plt.subplot(131)\n",
    "dfc.plot(kind='pie', colors=('blue', 'red'), autopct=\"%0.2f\",legend=False, title='Acessou a Internet nos ultimos 3 meses(%)')\n",
    "plt.ylabel('')\n",
    "plt.xlabel('')"
   ]
  },
  {
   "cell_type": "markdown",
   "metadata": {},
   "source": [
    "Analisando o gráfico acima, podemos perceber que uma grande quantidade da população brasileira (42,43%) ainda não possui acesso a internet com frequência. Isso mostra o quão atrasado é o país em relação à entrega de tecnologias atuais a população mais carente."
   ]
  },
  {
   "cell_type": "code",
   "execution_count": 17,
   "metadata": {
    "scrolled": true
   },
   "outputs": [
    {
     "name": "stdout",
     "output_type": "stream",
     "text": [
      "Tabela de posse de celular pessoal e rendimento mensal\n"
     ]
    },
    {
     "data": {
      "text/html": [
       "<div>\n",
       "<style>\n",
       "    .dataframe thead tr:only-child th {\n",
       "        text-align: right;\n",
       "    }\n",
       "\n",
       "    .dataframe thead th {\n",
       "        text-align: left;\n",
       "    }\n",
       "\n",
       "    .dataframe tbody tr th {\n",
       "        vertical-align: top;\n",
       "    }\n",
       "</style>\n",
       "<table border=\"1\" class=\"dataframe\">\n",
       "  <thead>\n",
       "    <tr style=\"text-align: right;\">\n",
       "      <th></th>\n",
       "      <th>Tem telefone celular para uso pessoal</th>\n",
       "      <th>Rendimento Mensal</th>\n",
       "    </tr>\n",
       "  </thead>\n",
       "  <tbody>\n",
       "    <tr>\n",
       "      <th>1</th>\n",
       "      <td>Sim</td>\n",
       "      <td>1150.0</td>\n",
       "    </tr>\n",
       "    <tr>\n",
       "      <th>2</th>\n",
       "      <td>Sim</td>\n",
       "      <td>880.0</td>\n",
       "    </tr>\n",
       "    <tr>\n",
       "      <th>3</th>\n",
       "      <td>Sim</td>\n",
       "      <td>3000.0</td>\n",
       "    </tr>\n",
       "    <tr>\n",
       "      <th>7</th>\n",
       "      <td>Sim</td>\n",
       "      <td>880.0</td>\n",
       "    </tr>\n",
       "    <tr>\n",
       "      <th>8</th>\n",
       "      <td>Sim</td>\n",
       "      <td>3500.0</td>\n",
       "    </tr>\n",
       "    <tr>\n",
       "      <th>9</th>\n",
       "      <td>Não</td>\n",
       "      <td>2300.0</td>\n",
       "    </tr>\n",
       "    <tr>\n",
       "      <th>10</th>\n",
       "      <td>Não</td>\n",
       "      <td>1990.0</td>\n",
       "    </tr>\n",
       "    <tr>\n",
       "      <th>11</th>\n",
       "      <td>Não</td>\n",
       "      <td>700.0</td>\n",
       "    </tr>\n",
       "    <tr>\n",
       "      <th>14</th>\n",
       "      <td>Sim</td>\n",
       "      <td>4000.0</td>\n",
       "    </tr>\n",
       "    <tr>\n",
       "      <th>16</th>\n",
       "      <td>Sim</td>\n",
       "      <td>1160.0</td>\n",
       "    </tr>\n",
       "  </tbody>\n",
       "</table>\n",
       "</div>"
      ],
      "text/plain": [
       "   Tem telefone celular para uso pessoal  Rendimento Mensal\n",
       "1                                    Sim             1150.0\n",
       "2                                    Sim              880.0\n",
       "3                                    Sim             3000.0\n",
       "7                                    Sim              880.0\n",
       "8                                    Sim             3500.0\n",
       "9                                    Não             2300.0\n",
       "10                                   Não             1990.0\n",
       "11                                   Não              700.0\n",
       "14                                   Sim             4000.0\n",
       "16                                   Sim             1160.0"
      ]
     },
     "execution_count": 17,
     "metadata": {},
     "output_type": "execute_result"
    }
   ],
   "source": [
    "#Filtrando a tabela para as variáveis necessárias\n",
    "tab_reduzida2 = dados_2015.iloc[1:,[66,307]]\n",
    "tab_reduzida2.V06112 = tab_reduzida2.V06112.astype('category')\n",
    "tab_reduzida2.V06112.cat.categories = ('Sim','Não')\n",
    "tbI2 = tab_reduzida2.rename(columns={\"V06112\":\"Tem telefone celular para uso pessoal\"})\n",
    "DADOSOFF2=tbI2.dropna(0,how='any')\n",
    "dadosoff2=DADOSOFF2[DADOSOFF2.V4720>0]\n",
    "tb2 = dadosoff2.rename(columns={\"V4720\":\"Rendimento Mensal\"})\n",
    "dfc2 = tab_reduzida2.V06112.value_counts()\n",
    "print('Tabela de posse de celular pessoal e rendimento mensal')\n",
    "tb2.head(10)"
   ]
  },
  {
   "cell_type": "code",
   "execution_count": 18,
   "metadata": {},
   "outputs": [
    {
     "name": "stdout",
     "output_type": "stream",
     "text": [
      "Quantidade de pessoas que possuem telefone celular para uso pessoal e que não possuem\n"
     ]
    },
    {
     "data": {
      "text/plain": [
       "Sim    243443\n",
       "Não     65155\n",
       "Name: V06112, dtype: int64"
      ]
     },
     "execution_count": 18,
     "metadata": {},
     "output_type": "execute_result"
    }
   ],
   "source": [
    "print('Quantidade de pessoas que possuem telefone celular para uso pessoal e que não possuem')\n",
    "dfc2"
   ]
  },
  {
   "cell_type": "code",
   "execution_count": 19,
   "metadata": {
    "scrolled": true
   },
   "outputs": [
    {
     "data": {
      "text/plain": [
       "<matplotlib.text.Text at 0x1c7f9734208>"
      ]
     },
     "execution_count": 19,
     "metadata": {},
     "output_type": "execute_result"
    },
    {
     "data": {
      "image/png": "[encoded data removed]",
      "text/plain": [
       "<matplotlib.figure.Figure at 0x1c7ba776e48>"
      ]
     },
     "metadata": {},
     "output_type": "display_data"
    }
   ],
   "source": [
    "fig = plt.figure(figsize=(15, 5))\n",
    "plt.subplot(131)\n",
    "dfc2.plot(kind='pie', colors=('blue', 'red'), autopct=\"%0.2f\",legend=False, title='Tem telefone celular para uso pessoal (%)')\n",
    "plt.ylabel('')\n",
    "plt.xlabel('')"
   ]
  },
  {
   "cell_type": "markdown",
   "metadata": {
    "collapsed": true
   },
   "source": [
    "Analisando o gráfico acima, podemos perceber que mais de um quinto da população (21,11%) ainda não possui um telefone celular para uso pessoal. Levando em conta que o celular foi inventado em 1973 pelo engenheiro eletrotécnico da Motorola, Martin Cooper, em pleno 2015 ter quase um quarto da população sem acesso a essa tecnologia mostra quão precariamente vive a população mais pobre do país."
   ]
  },
  {
   "cell_type": "code",
   "execution_count": 20,
   "metadata": {},
   "outputs": [
    {
     "data": {
      "text/plain": [
       "count    2.169110e+05\n",
       "mean     1.319896e+10\n",
       "std      1.141263e+11\n",
       "min      1.000000e+00\n",
       "25%      7.880000e+02\n",
       "50%      1.000000e+03\n",
       "75%      1.800000e+03\n",
       "max      1.000000e+12\n",
       "Name: V4720, dtype: float64"
      ]
     },
     "execution_count": 20,
     "metadata": {},
     "output_type": "execute_result"
    }
   ],
   "source": [
    "dadosoff.V4720.describe()"
   ]
  },
  {
   "cell_type": "code",
   "execution_count": 22,
   "metadata": {},
   "outputs": [
    {
     "name": "stdout",
     "output_type": "stream",
     "text": [
      "Faixas de salário:\n",
      "[1.0, 998.6)          48.4\n",
      "[998.6, 1996.2)       30.1\n",
      "[1996.2, 2993.8)      10.2\n",
      "[2993.8, 3991.4)       4.8\n",
      "[3991.4, 4989.0)       2.3\n",
      "[4989.0, 5986.6)       1.8\n",
      "[5986.6, 6984.2)       0.9\n",
      "[6984.2, 7981.8)       0.7\n",
      "[7981.8, 8979.4)       0.5\n",
      "[8979.4, 9986.976)     0.2\n",
      "Name: V4720, dtype: float64 \n",
      "\n"
     ]
    }
   ],
   "source": [
    "#Criando as faixas de salário\n",
    "faixas = pd.cut(dadosoff1.V4720, bins=10, right=False)\n",
    "print('Faixas de salário:')\n",
    "ut1 = (faixas.value_counts(sort=False, normalize=True)*100).round(decimals=1)\n",
    "print(ut1,'\\n')"
   ]
  },
  {
   "cell_type": "code",
   "execution_count": 25,
   "metadata": {
    "scrolled": true
   },
   "outputs": [
    {
     "name": "stderr",
     "output_type": "stream",
     "text": [
      "C:\\Users\\Leonardo\\Anaconda3\\lib\\site-packages\\ipykernel\\__main__.py:1: SettingWithCopyWarning: \n",
      "A value is trying to be set on a copy of a slice from a DataFrame.\n",
      "Try using .loc[row_indexer,col_indexer] = value instead\n",
      "\n",
      "See the caveats in the documentation: http://pandas.pydata.org/pandas-docs/stable/indexing.html#indexing-view-versus-copy\n",
      "  if __name__ == '__main__':\n",
      "C:\\Users\\Leonardo\\Anaconda3\\lib\\site-packages\\ipykernel\\__main__.py:3: SettingWithCopyWarning: \n",
      "A value is trying to be set on a copy of a slice from a DataFrame.\n",
      "Try using .loc[row_indexer,col_indexer] = value instead\n",
      "\n",
      "See the caveats in the documentation: http://pandas.pydata.org/pandas-docs/stable/indexing.html#indexing-view-versus-copy\n",
      "  app.launch_new_instance()\n"
     ]
    },
    {
     "data": {
      "text/plain": [
       "<matplotlib.axes._subplots.AxesSubplot at 0x1c7b7a10438>"
      ]
     },
     "execution_count": 25,
     "metadata": {},
     "output_type": "execute_result"
    },
    {
     "data": {
      "image/png": "[encoded data removed]",
      "text/plain": [
       "<matplotlib.figure.Figure at 0x1c7b794de10>"
      ]
     },
     "metadata": {},
     "output_type": "display_data"
    }
   ],
   "source": [
    "dadosoff1['faixas']=faixas\n",
    "\n",
    "dadosoff['internet']=tab_reduzida.V06111\n",
    "pd.crosstab(dadosoff1.faixas,dadosoff.internet, normalize='index').plot(kind='bar', stacked=True, title='Acesso a internet x Renda')"
   ]
  },
  {
   "cell_type": "markdown",
   "metadata": {},
   "source": [
    "O gráfico apresentado acima nos possibilita concluir que a maioria da população mais pobre nn possui acesso a internet e que a quantidade de pessoas que possui acesso aumenta conforme aumenta conforme aumenta a renda das pessoas."
   ]
  },
  {
   "cell_type": "code",
   "execution_count": 98,
   "metadata": {},
   "outputs": [
    {
     "name": "stderr",
     "output_type": "stream",
     "text": [
      "C:\\Users\\Leonardo\\Anaconda3\\lib\\site-packages\\ipykernel\\__main__.py:1: SettingWithCopyWarning: \n",
      "A value is trying to be set on a copy of a slice from a DataFrame.\n",
      "Try using .loc[row_indexer,col_indexer] = value instead\n",
      "\n",
      "See the caveats in the documentation: http://pandas.pydata.org/pandas-docs/stable/indexing.html#indexing-view-versus-copy\n",
      "  if __name__ == '__main__':\n"
     ]
    },
    {
     "data": {
      "text/plain": [
       "<matplotlib.axes._subplots.AxesSubplot at 0x1b51d016f60>"
      ]
     },
     "execution_count": 98,
     "metadata": {},
     "output_type": "execute_result"
    },
    {
     "data": {
      "image/png": "[encoded data removed]",
      "text/plain": [
       "<matplotlib.figure.Figure at 0x1b51da427b8>"
      ]
     },
     "metadata": {},
     "output_type": "display_data"
    }
   ],
   "source": [
    "dadosoff2['celular']=tab_reduzida2.V06112\n",
    "pd.crosstab(dadosoff.faixas,dadosoff2.celular, normalize='index').plot(kind='bar', stacked=True)"
   ]
  },
  {
   "cell_type": "markdown",
   "metadata": {},
   "source": [
    "O gráfico apresentado acima nos possibilita concluir que apenas cerca de 70% da população mais pobre possui celular para uso pessoal. Também nos mostra que a quantidade de pessoas com posse de celular próprio aumenta conforme aumenta seus salários."
   ]
  },
  {
   "cell_type": "markdown",
   "metadata": {},
   "source": [
    "___\n",
    "## Conclusão "
   ]
  },
  {
   "cell_type": "markdown",
   "metadata": {
    "collapsed": true
   },
   "source": [
    "Descreva aqui suas conclusões!"
   ]
  },
  {
   "cell_type": "markdown",
   "metadata": {
    "collapsed": true
   },
   "source": [
    "Após análise dos dados da PNAD do IBGE e dos gráficos apresentados podemos concluir que a população mais pobre é a que mais demora a receber as novas, ou nem tão novas assim, tecnologias. Pudemos observar uma grande quantidade da população que ainda não possui acesso a internet (42,43%), sendo a maioria dessas pessoas com rendimento mensal de menos de 2 salários mínimos.\n",
    "O mesmo acontece com a posse de telefone celular para uso pessoal, mais de um quinto (21,11%) da população não tem acesso a esse objeto tão essencial para a comunicação nos dias de hoje. Essas analises mostram como o brasil ainda está muito atrasado em disponibilizar tecnologias, básicas hoje em dia, para a população mais carente que parecem viver em outra década, sem internet e sem celular."
   ]
  }
 ],
 "metadata": {
  "anaconda-cloud": {},
  "kernelspec": {
   "display_name": "Python 3",
   "language": "python",
   "name": "python3"
  },
  "language_info": {
   "codemirror_mode": {
    "name": "ipython",
    "version": 3
   },
   "file_extension": ".py",
   "mimetype": "text/x-python",
   "name": "python",
   "nbconvert_exporter": "python",
   "pygments_lexer": "ipython3",
   "version": "3.6.0"
  }
 },
 "nbformat": 4,
 "nbformat_minor": 1
}
